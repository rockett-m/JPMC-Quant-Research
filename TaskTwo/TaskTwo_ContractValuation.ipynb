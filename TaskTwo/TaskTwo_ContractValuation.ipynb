{
  "nbformat": 4,
  "nbformat_minor": 0,
  "metadata": {
    "colab": {
      "provenance": []
    },
    "kernelspec": {
      "name": "python3",
      "display_name": "Python 3"
    },
    "language_info": {
      "name": "python"
    }
  },
  "cells": [
    {
      "cell_type": "code",
      "execution_count": 316,
      "metadata": {
        "id": "AvSF14wkK9GK"
      },
      "outputs": [],
      "source": [
        "# You need to create a prototype pricing model that can go through\n",
        "# further validation and testing before being put into production.\n",
        "# Eventually, this model may be the basis for fully automated quoting to clients,\n",
        "# but for now, the desk will use it with manual oversight to explore options with the client.\n",
        "\n",
        "# You should write a function that is able to use the data you created previously to price the contract.\n",
        "# The client may want to choose multiple dates to inject and withdraw a set amount of gas,\n",
        "# so your approach should generalize the explanation from before.\n",
        "# Consider all the cash flows involved in the product.\n",
        "\n",
        "# The input parameters that should be taken into account for pricing are:\n",
        "\n",
        "# > Injection dates.\n",
        "# > Withdrawal dates.\n",
        "# > The prices at which the commodity can be purchased/sold on those dates.\n",
        "# > The rate at which the gas can be injected/withdrawn.\n",
        "# > The maximum volume that can be stored.\n",
        "# > Storage costs.\n",
        "\n",
        "# Write a function that takes these inputs and gives back the value of the contract.\n",
        "# You can assume there is no transport delay and that interest rates are zero.\n",
        "# Market holidays, weekends, and bank holidays need not be accounted for.\n",
        "# Test your code by selecting a few sample inputs."
      ]
    },
    {
      "cell_type": "code",
      "source": [
        "%reset -f\n",
        "%load_ext autoreload\n",
        "%autoreload 2\n",
        "import os, sys\n",
        "import pandas as pd\n",
        "import numpy as np\n",
        "from datetime import datetime, timedelta\n",
        "from price_predict import load_data\n",
        "\n",
        "ROOT=\"/content\" # ROOT=\"/content/TaskOne\"\n",
        "data = os.path.join(ROOT, 'data/Nat_Gas.csv')\n",
        "df = load_data(data)"
      ],
      "metadata": {
        "colab": {
          "base_uri": "https://localhost:8080/"
        },
        "id": "PyRTXmp0PXdB",
        "outputId": "f5a890ad-4b02-4ea3-a443-3ef9667405bc"
      },
      "execution_count": 317,
      "outputs": [
        {
          "output_type": "stream",
          "name": "stdout",
          "text": [
            "The autoreload extension is already loaded. To reload it, use:\n",
            "  %reload_ext autoreload\n"
          ]
        },
        {
          "output_type": "stream",
          "name": "stderr",
          "text": [
            "/content/price_predict.py:19: FutureWarning: The argument 'date_parser' is deprecated and will be removed in a future version. Please use 'date_format' instead, or read your data in as 'object' dtype and then call 'to_datetime'.\n",
            "  df = pd.read_csv(fin, parse_dates=[\"Dates\"],\n"
          ]
        }
      ]
    },
    {
      "cell_type": "code",
      "source": [
        "def calc_storage_cost_and_drain(curr_vol: int, drain_time: int, GAS_RATE_TPUT: int, STORAGE_COST: float) -> tuple:\n",
        "    \"\"\"\n",
        "    as long as tank is not empty, add a day's storage cost, reduce tank volume\n",
        "    calculate P/L selling the contract outside this function, storage costs inside\n",
        "\n",
        "    return tuple of (vol_sold, curr_vol, total_cost)\n",
        "    \"\"\"\n",
        "    if curr_vol <= 0 or drain_time <= 0:\n",
        "        return 0, 0, 0\n",
        "\n",
        "    initial_vol = curr_vol\n",
        "    days_used_drain = 0\n",
        "    # drain the tank\n",
        "    for i in range(drain_time):\n",
        "        days_used_drain += 1\n",
        "\n",
        "        if curr_vol <= GAS_RATE_TPUT:\n",
        "            curr_vol = 0\n",
        "            break\n",
        "        else:\n",
        "            curr_vol -= GAS_RATE_TPUT\n",
        "\n",
        "    total_cost = days_used_drain * STORAGE_COST\n",
        "\n",
        "    vol_sold = initial_vol - curr_vol\n",
        "    print(f\"Took {days_used_drain} days to drain tank by {vol_sold} units costing ${total_cost:.2f} in storage\")\n",
        "\n",
        "    return vol_sold, curr_vol, total_cost"
      ],
      "metadata": {
        "id": "uL1WvTMTrs2T"
      },
      "execution_count": 318,
      "outputs": []
    },
    {
      "cell_type": "markdown",
      "source": [],
      "metadata": {
        "id": "mlcg24Ae3Fiz"
      }
    },
    {
      "cell_type": "code",
      "source": [
        "def calc_volume_and_buy(curr_vol: int, fill_time: int, GAS_RATE_TPUT: int, MAX_VOL: int) -> tuple:\n",
        "    \"\"\"\n",
        "    fill the tank as long as it is not full or there are days available\n",
        "\n",
        "    return tuple of (vol_bought, curr_vol, total_cost)\n",
        "    \"\"\"\n",
        "    if curr_vol >= MAX_VOL or fill_time <= 0:\n",
        "        return 0, 0, 0\n",
        "\n",
        "    vol_bought, days_used_fill = 0, 0\n",
        "\n",
        "    # fill the tank\n",
        "    for i in range(fill_time):\n",
        "        days_used_fill += 1\n",
        "\n",
        "        if curr_vol + GAS_RATE_TPUT < MAX_VOL:\n",
        "            vol_bought += GAS_RATE_TPUT\n",
        "            curr_vol += GAS_RATE_TPUT\n",
        "        else:\n",
        "            vol_bought += MAX_VOL - curr_vol\n",
        "            curr_vol = MAX_VOL\n",
        "            break\n",
        "\n",
        "    total_cost = days_used_fill * STORAGE_COST\n",
        "    print(f\"Took {days_used_fill} days to fill tank by {vol_bought} units costing ${total_cost:.2f} in storage\")\n",
        "\n",
        "    return vol_bought, curr_vol, total_cost"
      ],
      "metadata": {
        "id": "8ZKRgx0nvFKz"
      },
      "execution_count": 319,
      "outputs": []
    },
    {
      "cell_type": "code",
      "source": [
        "from price_predict import run_holt_winters\n",
        "\n",
        "def price_contract(inj_dates: list, wth_dates: list, GAS_RATE_TPUT: int, MAX_VOL: int, STORAGE_COST: float) -> float:\n",
        "    \"\"\"\n",
        "    Inputs:\n",
        "    inj_dates:     list of injection dates  (sort earliest to latest)\n",
        "    wth_dates:     list of withdrawal dates (sort earliest to latest)\n",
        "    GAS_RATE_TPUT: rate at which the gas can be injected/withdrawn\n",
        "                        defining this as daily rate\n",
        "    MAX_VOL:       maximum volume that can be stored\n",
        "    STORAGE_COST:  cost of storage\n",
        "                        going to define as cost per day to use tank of capacity max_vol\n",
        "\n",
        "    Calculate:\n",
        "    # The prices at which the commodity can be purchased/sold on those dates.\n",
        "    buy_price_i:  price at which the commodity can be purchased on inj_dates[i]\n",
        "    sell_price_j: price at which the commodity can be sold on      wth_dates[j]\n",
        "    # calculate via TaskOne : Holt-Winters price prediction model\n",
        "\n",
        "    Outputs:\n",
        "    contract_value: value of the contract\n",
        "    \"\"\"\n",
        "    # exit if Injection dates are empty\n",
        "    if not inj_dates:\n",
        "        print(\"No commodity buying occured. Exiting\")\n",
        "        return 0.0\n",
        "\n",
        "    # convert Injection dates, Withdrawal dates to pd.to_datetime()\n",
        "    inj_dates = np.array([pd.to_datetime(x, format='%Y-%m-%d') for x in inj_dates])\n",
        "    wth_dates = np.array([pd.to_datetime(x, format='%Y-%m-%d') for x in wth_dates])\n",
        "\n",
        "    # sort Injection dates, Withdrawal dates earliest to latest\n",
        "    inj_dates = np.sort(inj_dates)\n",
        "    wth_dates = np.sort(wth_dates)\n",
        "\n",
        "    # validate if dates are in bounds\n",
        "    # price_predict.py won't allow for prediction beyond 1 year past training data\n",
        "    if len(inj_dates) != len(wth_dates):\n",
        "        print('Error: need the same amount of injection and withdrawal dates')\n",
        "        return 0.0\n",
        "\n",
        "    # discard any wth_date_j that occurs before first inj_date_i\n",
        "    first_buy = inj_dates[0]\n",
        "    trim_idx = np.searchsorted(wth_dates, first_buy)\n",
        "    wth_dates = wth_dates[trim_idx:]\n",
        "\n",
        "    # assume gas price locked in on buy day even if it takes longer to fill / withdraw\n",
        "    # naive way first - (buy, fill, sell, drain), (buy, fill, sell, drain), ...\n",
        "    txn_count, curr_tank_vol = 0, 0\n",
        "    prev_sell_date_j, inj_date_i = None, None\n",
        "    contract_value, sell_price_j = 0.0, 0.0\n",
        "\n",
        "    # if there are the same number of injection dates and withdrawal dates - expected\n",
        "    for inj_date_i, wth_date_j in zip(inj_dates, wth_dates):\n",
        "        # calc draining oil from previous sell date\n",
        "        # we need to see how much we can drain before next purchase occurs\n",
        "        # FIXME: handle overlap in future\n",
        "\n",
        "        # calc draining amount and costs with lookahead to next buy date\n",
        "        if txn_count > 0:\n",
        "\n",
        "            days_before_next_buy = (inj_date_i - prev_sell_date_j).days\n",
        "            days_to_empty_tank = int(np.ceil(curr_tank_vol / GAS_RATE_TPUT))\n",
        "\n",
        "            drain_time = min(days_before_next_buy, days_to_empty_tank)\n",
        "            # calculate the storage cost of the draining supply\n",
        "            vol_sold, curr_tank_vol, store_cost_drain = calc_storage_cost_and_drain(\n",
        "                curr_tank_vol, drain_time, GAS_RATE_TPUT, STORAGE_COST\n",
        "            )\n",
        "            # P/L from the amount we could sell, storage time\n",
        "            contract_value -= store_cost_drain\n",
        "            contract_value += sell_price_j * vol_sold\n",
        "            print(f\"The contract is worth ${contract_value:.2f}\\n\")\n",
        "\n",
        "        # fill up the tank\n",
        "        time_duration = (wth_date_j - inj_date_i).days\n",
        "        print(f'time_duration = {time_duration}')\n",
        "        if time_duration == 0:\n",
        "            continue\n",
        "        elif time_duration < 0:\n",
        "            print('Error: withdrawal date before injection date')\n",
        "            return 0.0\n",
        "\n",
        "        print(f'curr_tank_vol before buy #{txn_count}: {curr_tank_vol}')\n",
        "        # 0 <= {vol_actual, curr_tank_vol} <= max_vol\n",
        "        vol_bought, curr_tank_vol, buy_cost = calc_volume_and_buy(\n",
        "            curr_tank_vol, time_duration, GAS_RATE_TPUT, MAX_VOL\n",
        "        )\n",
        "        print(f'curr_tank_vol after buy #{txn_count}: {curr_tank_vol}')\n",
        "\n",
        "        store_cost_fill = time_duration * STORAGE_COST\n",
        "        contract_value -= store_cost_fill\n",
        "\n",
        "        # retrieve buy_price_i and sell_price_i from Holt-Winters price pred. model\n",
        "        buy_price_i =  run_holt_winters(inj_date_i, df)\n",
        "        sell_price_j = run_holt_winters(wth_date_j, df)\n",
        "        print(f\"{inj_date_i.strftime('%Y-%m-%d')} buy_price  = ${buy_price_i:.2f} from ML prediction\")\n",
        "        print(f\"{wth_date_j.strftime('%Y-%m-%d')} sell_price = ${sell_price_j:.2f} from ML prediction\")\n",
        "\n",
        "        contract_value -= buy_price_i * vol_bought\n",
        "\n",
        "        # for selling, do at beginning of next loop or after looping, to see draining time and costs\n",
        "        prev_sell_date_j = wth_date_j\n",
        "        txn_count += 1\n",
        "\n",
        "    # drain entire tank as no time limit after final sell if # buys == # sells\n",
        "    if prev_sell_date_j:\n",
        "        sell_price = run_holt_winters(prev_sell_date_j, df)\n",
        "        # calc storage cost during final drainage\n",
        "        drain_time = int(np.ceil(curr_tank_vol / GAS_RATE_TPUT))\n",
        "        # calculate the storage cost of the draining supply\n",
        "        vol_sold, curr_tank_vol, store_cost_drain = calc_storage_cost_and_drain(\n",
        "            curr_tank_vol, drain_time, GAS_RATE_TPUT, STORAGE_COST\n",
        "        )\n",
        "        contract_value -= store_cost_drain\n",
        "        contract_value += sell_price * vol_sold\n",
        "\n",
        "    # UNITS \"MMBtu\"\n",
        "    print(f\"\\nThe contract is worth ${contract_value:.2f}\\n\")\n",
        "    return contract_value\n"
      ],
      "metadata": {
        "id": "wNLRY1nmLaKm"
      },
      "execution_count": 320,
      "outputs": []
    },
    {
      "cell_type": "code",
      "source": [
        "# Sample Inputs 0\n",
        "# realistic goal of the client - Buy summer, Sell winter\n",
        "# testing past dates, in bounds, future dates...buy then sell without overlap\n",
        "inj_dates = [\"2013-06-11\", \"2017-09-05\", \"2020-08-09\", \"2021-07-01\", \"2023-05-09\"]\n",
        "wth_dates = [\"2014-02-02\", \"2018-02-01\", \"2021-01-06\", \"2022-02-24\", \"2024-01-20\"]\n",
        "GAS_RATE_TPUT = 1000  # per day\n",
        "MAX_VOL = 100000     # tank total\n",
        "STORAGE_COST = 100   # per day\n",
        "# UNITS \"MMBtu\"\n",
        "contract_value = price_contract(inj_dates, wth_dates, GAS_RATE_TPUT, MAX_VOL, STORAGE_COST)"
      ],
      "metadata": {
        "colab": {
          "base_uri": "https://localhost:8080/"
        },
        "id": "1nx0f2ggWdBO",
        "outputId": "fd9a2127-4d69-4b6d-855a-b8d3844cec3a"
      },
      "execution_count": 321,
      "outputs": [
        {
          "output_type": "stream",
          "name": "stdout",
          "text": [
            "time_duration = 236\n",
            "curr_tank_vol before buy #0: 0\n",
            "Took 100 days to fill tank by 100000 units costing $10000.00 in storage\n",
            "curr_tank_vol after buy #0: 100000\n",
            "2013-06-11 buy_price  = $5.64 from ML prediction\n",
            "2014-02-02 sell_price = $7.17 from ML prediction\n",
            "Took 100 days to drain tank by 100000 units costing $10000.00 in storage\n",
            "The contract is worth $119550.56\n",
            "\n",
            "time_duration = 149\n",
            "curr_tank_vol before buy #1: 0\n",
            "Took 100 days to fill tank by 100000 units costing $10000.00 in storage\n",
            "curr_tank_vol after buy #1: 100000\n",
            "2017-09-05 buy_price  = $7.85 from ML prediction\n",
            "2018-02-01 sell_price = $9.34 from ML prediction\n",
            "Took 100 days to drain tank by 100000 units costing $10000.00 in storage\n",
            "The contract is worth $243800.72\n",
            "\n",
            "time_duration = 150\n",
            "curr_tank_vol before buy #2: 0\n",
            "Took 100 days to fill tank by 100000 units costing $10000.00 in storage\n",
            "curr_tank_vol after buy #2: 100000\n",
            "2020-08-09 buy_price  = $9.55 from ML prediction\n",
            "2021-01-06 sell_price = $10.90 from ML prediction\n",
            "Took 100 days to drain tank by 100000 units costing $10000.00 in storage\n",
            "The contract is worth $354175.67\n",
            "\n",
            "time_duration = 238\n",
            "curr_tank_vol before buy #3: 0\n",
            "Took 100 days to fill tank by 100000 units costing $10000.00 in storage\n",
            "curr_tank_vol after buy #3: 100000\n",
            "2021-07-01 buy_price  = $10.10 from ML prediction\n",
            "2022-02-24 sell_price = $11.80 from ML prediction\n",
            "Took 100 days to drain tank by 100000 units costing $10000.00 in storage\n",
            "The contract is worth $490375.67\n",
            "\n",
            "time_duration = 256\n",
            "curr_tank_vol before buy #4: 0\n",
            "Took 100 days to fill tank by 100000 units costing $10000.00 in storage\n",
            "curr_tank_vol after buy #4: 100000\n",
            "2023-05-09 buy_price  = $11.20 from ML prediction\n",
            "2024-01-20 sell_price = $12.60 from ML prediction\n",
            "Took 100 days to drain tank by 100000 units costing $10000.00 in storage\n",
            "\n",
            "The contract is worth $594775.67\n",
            "\n"
          ]
        }
      ]
    },
    {
      "cell_type": "code",
      "source": [
        "# Sample Inputs 1\n",
        "# testing all in bounds, buy then sell without overlap\n",
        "inj_dates = [\"2020-10-11\", \"2021-04-05\", \"2022-08-09\", \"2023-10-01\", \"2024-09-09\"] # remove \"\" to test\n",
        "wth_dates = [\"2021-02-02\", \"2022-06-27\", \"2023-06-06\", \"2024-01-24\", \"2024-10-10\"]\n",
        "GAS_RATE_TPUT = 10000 # per day\n",
        "MAX_VOL = 100000     # tank total\n",
        "STORAGE_COST = 100   # per day\n",
        "contract_value = price_contract(inj_dates, wth_dates, GAS_RATE_TPUT, MAX_VOL, STORAGE_COST)\n",
        "# print(f\"The contract is worth ${contract_value:.2f}\\n\")"
      ],
      "metadata": {
        "colab": {
          "base_uri": "https://localhost:8080/"
        },
        "id": "90vwfKMsN34u",
        "outputId": "55144de6-a2ba-4b44-d3fa-eb85dad834dc"
      },
      "execution_count": 322,
      "outputs": [
        {
          "output_type": "stream",
          "name": "stdout",
          "text": [
            "time_duration = 114\n",
            "curr_tank_vol before buy #0: 0\n",
            "Took 10 days to fill tank by 100000 units costing $1000.00 in storage\n",
            "curr_tank_vol after buy #0: 100000\n",
            "2020-10-11 buy_price  = $10.10 from ML prediction\n",
            "2021-02-02 sell_price = $10.90 from ML prediction\n",
            "Took 10 days to drain tank by 100000 units costing $1000.00 in storage\n",
            "The contract is worth $67600.00\n",
            "\n",
            "time_duration = 448\n",
            "curr_tank_vol before buy #1: 0\n",
            "Took 10 days to fill tank by 100000 units costing $1000.00 in storage\n",
            "curr_tank_vol after buy #1: 100000\n",
            "2021-04-05 buy_price  = $10.40 from ML prediction\n",
            "2022-06-27 sell_price = $10.40 from ML prediction\n",
            "Took 10 days to drain tank by 100000 units costing $1000.00 in storage\n",
            "The contract is worth $21800.00\n",
            "\n",
            "time_duration = 301\n",
            "curr_tank_vol before buy #2: 0\n",
            "Took 10 days to fill tank by 100000 units costing $1000.00 in storage\n",
            "curr_tank_vol after buy #2: 100000\n",
            "2022-08-09 buy_price  = $10.40 from ML prediction\n",
            "2023-06-06 sell_price = $10.90 from ML prediction\n",
            "Took 10 days to drain tank by 100000 units costing $1000.00 in storage\n",
            "The contract is worth $40700.00\n",
            "\n",
            "time_duration = 115\n",
            "curr_tank_vol before buy #3: 0\n",
            "Took 10 days to fill tank by 100000 units costing $1000.00 in storage\n",
            "curr_tank_vol after buy #3: 100000\n",
            "2023-10-01 buy_price  = $11.80 from ML prediction\n",
            "2024-01-24 sell_price = $12.60 from ML prediction\n",
            "Took 10 days to drain tank by 100000 units costing $1000.00 in storage\n",
            "The contract is worth $108200.00\n",
            "\n",
            "time_duration = 31\n",
            "curr_tank_vol before buy #4: 0\n",
            "Took 10 days to fill tank by 100000 units costing $1000.00 in storage\n",
            "curr_tank_vol after buy #4: 100000\n",
            "2024-09-09 buy_price  = $11.80 from ML prediction\n",
            "2024-10-10 sell_price = $12.10 from ML prediction\n",
            "Took 10 days to drain tank by 100000 units costing $1000.00 in storage\n",
            "\n",
            "The contract is worth $134478.18\n",
            "\n"
          ]
        }
      ]
    },
    {
      "cell_type": "code",
      "source": [
        "# Sample Inputs 2\n",
        "# testing past dates, in bounds, future dates...buy then sell without overlap\n",
        "inj_dates = [\"2018-10-11\", \"2020-04-05\", \"2022-08-09\", \"2023-10-01\", \"2024-05-09\"] # remove \"\" to test\n",
        "wth_dates = [\"2019-02-02\", \"2022-06-27\", \"2023-06-06\", \"2024-01-24\", \"2025-03-20\"]\n",
        "GAS_RATE_TPUT = 10000 # per day\n",
        "MAX_VOL = 100000     # tank total\n",
        "STORAGE_COST = 100   # per day\n",
        "contract_value = price_contract(inj_dates, wth_dates, GAS_RATE_TPUT, MAX_VOL, STORAGE_COST)"
      ],
      "metadata": {
        "colab": {
          "base_uri": "https://localhost:8080/"
        },
        "id": "2TJcoefIsYpB",
        "outputId": "620439ba-0797-40aa-9212-0cf70f041b07"
      },
      "execution_count": 323,
      "outputs": [
        {
          "output_type": "stream",
          "name": "stdout",
          "text": [
            "time_duration = 114\n",
            "curr_tank_vol before buy #0: 0\n",
            "Took 10 days to fill tank by 100000 units costing $1000.00 in storage\n",
            "curr_tank_vol after buy #0: 100000\n",
            "2018-10-11 buy_price  = $8.64 from ML prediction\n",
            "2019-02-02 sell_price = $9.88 from ML prediction\n",
            "Took 10 days to drain tank by 100000 units costing $1000.00 in storage\n",
            "The contract is worth $111750.08\n",
            "\n",
            "time_duration = 813\n",
            "curr_tank_vol before buy #1: 0\n",
            "Took 10 days to fill tank by 100000 units costing $1000.00 in storage\n",
            "curr_tank_vol after buy #1: 100000\n",
            "2020-04-05 buy_price  = $10.42 from ML prediction\n",
            "2022-06-27 sell_price = $10.40 from ML prediction\n",
            "Took 10 days to drain tank by 100000 units costing $1000.00 in storage\n",
            "The contract is worth $27324.98\n",
            "\n",
            "time_duration = 301\n",
            "curr_tank_vol before buy #2: 0\n",
            "Took 10 days to fill tank by 100000 units costing $1000.00 in storage\n",
            "curr_tank_vol after buy #2: 100000\n",
            "2022-08-09 buy_price  = $10.40 from ML prediction\n",
            "2023-06-06 sell_price = $10.90 from ML prediction\n",
            "Took 10 days to drain tank by 100000 units costing $1000.00 in storage\n",
            "The contract is worth $46224.98\n",
            "\n",
            "time_duration = 115\n",
            "curr_tank_vol before buy #3: 0\n",
            "Took 10 days to fill tank by 100000 units costing $1000.00 in storage\n",
            "curr_tank_vol after buy #3: 100000\n",
            "2023-10-01 buy_price  = $11.80 from ML prediction\n",
            "2024-01-24 sell_price = $12.60 from ML prediction\n",
            "Took 10 days to drain tank by 100000 units costing $1000.00 in storage\n",
            "The contract is worth $113724.98\n",
            "\n",
            "time_duration = 315\n",
            "curr_tank_vol before buy #4: 0\n",
            "Took 10 days to fill tank by 100000 units costing $1000.00 in storage\n",
            "curr_tank_vol after buy #4: 100000\n",
            "2024-05-09 buy_price  = $11.40 from ML prediction\n",
            "2025-03-20 sell_price = $13.13 from ML prediction\n",
            "Took 10 days to drain tank by 100000 units costing $1000.00 in storage\n",
            "\n",
            "The contract is worth $254104.27\n",
            "\n"
          ]
        }
      ]
    },
    {
      "cell_type": "code",
      "source": [
        "# Sample Inputs 3\n",
        "# low throughput - won't be able to full fill or empty tank before next buy/sell\n",
        "# testing past dates, in bounds, future dates...buy then sell without overlap\n",
        "inj_dates = [\"2018-10-11\", \"2019-04-05\", \"2022-08-09\", \"2022-10-01\", \"2024-05-09\"]\n",
        "wth_dates = [\"2019-02-02\", \"2022-06-27\", \"2022-09-06\", \"2023-01-24\", \"2025-03-20\"]\n",
        "GAS_RATE_TPUT = 1000  # per day\n",
        "MAX_VOL = 100000     # tank total\n",
        "STORAGE_COST = 100   # per day\n",
        "contract_value = price_contract(inj_dates, wth_dates, GAS_RATE_TPUT, MAX_VOL, STORAGE_COST)"
      ],
      "metadata": {
        "colab": {
          "base_uri": "https://localhost:8080/"
        },
        "id": "yp9OpozItzoK",
        "outputId": "e7a18815-a0e3-43dd-db9c-28f540388beb"
      },
      "execution_count": 324,
      "outputs": [
        {
          "output_type": "stream",
          "name": "stdout",
          "text": [
            "time_duration = 114\n",
            "curr_tank_vol before buy #0: 0\n",
            "Took 100 days to fill tank by 100000 units costing $10000.00 in storage\n",
            "curr_tank_vol after buy #0: 100000\n",
            "2018-10-11 buy_price  = $8.64 from ML prediction\n",
            "2019-02-02 sell_price = $9.88 from ML prediction\n",
            "Took 62 days to drain tank by 62000 units costing $6200.00 in storage\n",
            "The contract is worth $-268880.55\n",
            "\n",
            "time_duration = 1179\n",
            "curr_tank_vol before buy #1: 38000\n",
            "Took 62 days to fill tank by 62000 units costing $6200.00 in storage\n",
            "curr_tank_vol after buy #1: 100000\n",
            "2019-04-05 buy_price  = $9.88 from ML prediction\n",
            "2022-06-27 sell_price = $10.40 from ML prediction\n",
            "Took 43 days to drain tank by 43000 units costing $4300.00 in storage\n",
            "The contract is worth $-556425.14\n",
            "\n",
            "time_duration = 28\n",
            "curr_tank_vol before buy #2: 57000\n",
            "Took 28 days to fill tank by 28000 units costing $2800.00 in storage\n",
            "curr_tank_vol after buy #2: 85000\n",
            "2022-08-09 buy_price  = $10.40 from ML prediction\n",
            "2022-09-06 sell_price = $10.80 from ML prediction\n",
            "Took 25 days to drain tank by 25000 units costing $2500.00 in storage\n",
            "The contract is worth $-582925.14\n",
            "\n",
            "time_duration = 115\n",
            "curr_tank_vol before buy #3: 60000\n",
            "Took 40 days to fill tank by 40000 units costing $4000.00 in storage\n",
            "curr_tank_vol after buy #3: 100000\n",
            "2022-10-01 buy_price  = $11.00 from ML prediction\n",
            "2023-01-24 sell_price = $12.10 from ML prediction\n",
            "Took 100 days to drain tank by 100000 units costing $10000.00 in storage\n",
            "The contract is worth $165574.86\n",
            "\n",
            "time_duration = 315\n",
            "curr_tank_vol before buy #4: 0\n",
            "Took 100 days to fill tank by 100000 units costing $10000.00 in storage\n",
            "curr_tank_vol after buy #4: 100000\n",
            "2024-05-09 buy_price  = $11.40 from ML prediction\n",
            "2025-03-20 sell_price = $13.13 from ML prediction\n",
            "Took 100 days to drain tank by 100000 units costing $10000.00 in storage\n",
            "\n",
            "The contract is worth $296954.15\n",
            "\n"
          ]
        }
      ]
    },
    {
      "cell_type": "code",
      "source": [
        "# Sample Inputs 4\n",
        "# test sell before buy date - expect error (occurs)\n",
        "# testing past dates, in bounds, future dates...buy then sell without overlap\n",
        "inj_dates = [\"2018-10-11\", \"2020-06-05\", \"2022-08-09\", \"2023-10-01\", \"2024-05-09\"]\n",
        "wth_dates = [\"2019-02-02\", \"2020-02-27\", \"2023-06-06\", \"2024-01-24\", \"2025-03-20\"]\n",
        "GAS_RATE_TPUT = 10000 # per day\n",
        "MAX_VOL = 100000     # tank total\n",
        "STORAGE_COST = 100   # per day\n",
        "contract_value = price_contract(inj_dates, wth_dates, GAS_RATE_TPUT, MAX_VOL, STORAGE_COST)"
      ],
      "metadata": {
        "colab": {
          "base_uri": "https://localhost:8080/"
        },
        "id": "BKIC4BMra_Ye",
        "outputId": "1430146f-5873-4f37-a392-52108bc1a597"
      },
      "execution_count": 325,
      "outputs": [
        {
          "output_type": "stream",
          "name": "stdout",
          "text": [
            "time_duration = 114\n",
            "curr_tank_vol before buy #0: 0\n",
            "Took 10 days to fill tank by 100000 units costing $1000.00 in storage\n",
            "curr_tank_vol after buy #0: 100000\n",
            "2018-10-11 buy_price  = $8.64 from ML prediction\n",
            "2019-02-02 sell_price = $9.88 from ML prediction\n",
            "Took 10 days to drain tank by 100000 units costing $1000.00 in storage\n",
            "The contract is worth $111750.08\n",
            "\n",
            "time_duration = -99\n",
            "Error: withdrawal date before injection date\n"
          ]
        }
      ]
    },
    {
      "cell_type": "code",
      "source": [
        "# Sample Inputs 5\n",
        "# test out of bounds future dates - expect predict price to throw error (occurs)\n",
        "# testing past dates, in bounds, future dates...buy then sell without overlap\n",
        "inj_dates = [\"2018-10-11\", \"2019-04-05\", \"2022-08-09\", \"2026-10-01\", \"2028-05-09\"]\n",
        "wth_dates = [\"2019-02-02\", \"2022-06-27\", \"2022-09-06\", \"2027-01-24\", \"2030-03-20\"]\n",
        "GAS_RATE_TPUT = 1000  # per day\n",
        "MAX_VOL = 100000     # tank total\n",
        "STORAGE_COST = 100   # per day\n",
        "contract_value = price_contract(inj_dates, wth_dates, GAS_RATE_TPUT, MAX_VOL, STORAGE_COST)"
      ],
      "metadata": {
        "colab": {
          "base_uri": "https://localhost:8080/",
          "height": 699
        },
        "id": "fZpivo6IUze_",
        "outputId": "ba225386-4929-400e-e454-ae29850d4509"
      },
      "execution_count": 326,
      "outputs": [
        {
          "output_type": "stream",
          "name": "stdout",
          "text": [
            "time_duration = 114\n",
            "curr_tank_vol before buy #0: 0\n",
            "Took 100 days to fill tank by 100000 units costing $10000.00 in storage\n",
            "curr_tank_vol after buy #0: 100000\n",
            "2018-10-11 buy_price  = $8.64 from ML prediction\n",
            "2019-02-02 sell_price = $9.88 from ML prediction\n",
            "Took 62 days to drain tank by 62000 units costing $6200.00 in storage\n",
            "The contract is worth $-268880.55\n",
            "\n",
            "time_duration = 1179\n",
            "curr_tank_vol before buy #1: 38000\n",
            "Took 62 days to fill tank by 62000 units costing $6200.00 in storage\n",
            "curr_tank_vol after buy #1: 100000\n",
            "2019-04-05 buy_price  = $9.88 from ML prediction\n",
            "2022-06-27 sell_price = $10.40 from ML prediction\n",
            "Took 43 days to drain tank by 43000 units costing $4300.00 in storage\n",
            "The contract is worth $-556425.14\n",
            "\n",
            "time_duration = 28\n",
            "curr_tank_vol before buy #2: 57000\n",
            "Took 28 days to fill tank by 28000 units costing $2800.00 in storage\n",
            "curr_tank_vol after buy #2: 85000\n",
            "2022-08-09 buy_price  = $10.40 from ML prediction\n",
            "2022-09-06 sell_price = $10.80 from ML prediction\n",
            "Took 85 days to drain tank by 85000 units costing $8500.00 in storage\n",
            "The contract is worth $59074.86\n",
            "\n",
            "time_duration = 115\n",
            "curr_tank_vol before buy #3: 0\n",
            "Took 100 days to fill tank by 100000 units costing $10000.00 in storage\n",
            "curr_tank_vol after buy #3: 100000\n",
            "Error: Must enter a prediction date within 1 year of training data\n"
          ]
        },
        {
          "output_type": "error",
          "ename": "SystemExit",
          "evalue": "1",
          "traceback": [
            "An exception has occurred, use %tb to see the full traceback.\n",
            "\u001b[0;31mSystemExit\u001b[0m\u001b[0;31m:\u001b[0m 1\n"
          ]
        },
        {
          "output_type": "stream",
          "name": "stderr",
          "text": [
            "/usr/local/lib/python3.10/dist-packages/IPython/core/interactiveshell.py:3561: UserWarning: To exit: use 'exit', 'quit', or Ctrl-D.\n",
            "  warn(\"To exit: use 'exit', 'quit', or Ctrl-D.\", stacklevel=1)\n"
          ]
        }
      ]
    },
    {
      "cell_type": "code",
      "source": [
        "# Sample Inputs 6\n",
        "# diff number of injection and sell dates - expect error (occurs)\n",
        "# testing past dates, in bounds, future dates...buy then sell without overlap\n",
        "inj_dates = [\"2018-10-11\", \"2019-04-05\", \"2022-08-09\", \"2026-10-01\"]\n",
        "wth_dates = [\"2019-02-02\", \"2022-06-27\", \"2022-09-06\", \"2027-01-24\", \"2030-03-20\"]\n",
        "GAS_RATE_TPUT = 1000  # per day\n",
        "MAX_VOL = 100000     # tank total\n",
        "STORAGE_COST = 100   # per day\n",
        "contract_value = price_contract(inj_dates, wth_dates, GAS_RATE_TPUT, MAX_VOL, STORAGE_COST)"
      ],
      "metadata": {
        "colab": {
          "base_uri": "https://localhost:8080/"
        },
        "id": "_462GscUVHI8",
        "outputId": "7f15b4e1-37f4-47b5-8de4-e6fb044dbbfe"
      },
      "execution_count": 327,
      "outputs": [
        {
          "output_type": "stream",
          "name": "stdout",
          "text": [
            "Error: need the same amount of injection and withdrawal dates\n"
          ]
        }
      ]
    }
  ]
}